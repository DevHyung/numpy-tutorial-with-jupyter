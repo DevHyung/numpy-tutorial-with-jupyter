{
 "cells": [
  {
   "cell_type": "markdown",
   "metadata": {},
   "source": [
    "# 수업 내용 이해"
   ]
  },
  {
   "cell_type": "markdown",
   "metadata": {},
   "source": [
    "이번 스텝에서는 Pandas의 기본보다 조금 더 심화된 내용을 다루려합니다.<br>\n",
    "\n",
    "실행을 하기 전 결과를 예상하고 <br>\n",
    "복붙이 아닌 타이핑으로 문법에 대해 <br>\n",
    "익숙해지시면서 따라하시길 추천 드립니다.<br>\n",
    "\n",
    "목차\n",
    "- DF 마스킹\n",
    "- DF 그룹핑 \n",
    "- 피벗"
   ]
  },
  {
   "cell_type": "markdown",
   "metadata": {},
   "source": [
    "## 필요패키지 및 alias"
   ]
  },
  {
   "cell_type": "code",
   "execution_count": null,
   "metadata": {},
   "outputs": [],
   "source": [
    "import pandas as pd\n",
    "import numpy as np"
   ]
  },
  {
   "cell_type": "markdown",
   "metadata": {},
   "source": [
    "## 데이터 준비 \n",
    "\n",
    "실습에 사용하시고 싶은 이미지를 코드와 같은 위치에 <br>\n",
    "`data.txt`로 저장합니다. <br> "
   ]
  },
  {
   "cell_type": "markdown",
   "metadata": {},
   "source": [
    "# 마스킹 및 lambda 연산"
   ]
  },
  {
   "cell_type": "code",
   "execution_count": null,
   "metadata": {},
   "outputs": [],
   "source": [
    "\"\"\" DF 마스킹 \"\"\"\n",
    "df = pd.DataFrame(np.random.randint(1, 10, (2, 2)), \n",
    "                  index=[0, 1], \n",
    "                  columns=[\"A\", \"B\"])\n",
    "print(df, end='\\n\\n')\n",
    "\n",
    "# 컬럼 A의 각 원소가 5보다 작거나 같은지 출력\n",
    "print(df[\"A\"] <= 5, end='\\n\\n')\n",
    "#print(df.loc[0] <= 5)\n",
    "\n",
    "# 컬럼 A의 원소가 5보다 작고, 컬럼 B의 원소가 8보다 작은 행 추출\n",
    "print(df.query(\"A <= 5 and B <= 8\"), end='\\n\\n')"
   ]
  },
  {
   "cell_type": "code",
   "execution_count": null,
   "metadata": {},
   "outputs": [],
   "source": [
    "\"\"\" 개별연산 \"\"\"\n",
    "df = pd.DataFrame([[1, 2, 3, 4], [1, 2, 3, 4]], index=[0, 1], columns=[\"A\", \"B\", \"C\", \"D\"])\n",
    "print(df, end='\\n\\n')\n",
    "\n",
    "df = df.apply(lambda x: x + 1)\n",
    "print(df, end='\\n\\n')\n",
    "\n",
    "def addOne(x):\n",
    "  return x + 1\n",
    "  \n",
    "df = df.apply(addOne)\n",
    "print(df)"
   ]
  },
  {
   "cell_type": "markdown",
   "metadata": {},
   "source": [
    "# 그룹핑"
   ]
  },
  {
   "cell_type": "code",
   "execution_count": null,
   "metadata": {},
   "outputs": [],
   "source": [
    "\"\"\" Pandas Groupping \"\"\"\n",
    "\n",
    "df = pd.DataFrame([\n",
    "  ['Apple', 7, 'Fruit'],\n",
    "  ['Banana', 3, 'Fruit'],\n",
    "  ['Beef', 5, 'Meal'],\n",
    "  ['Kimchi', 4, 'Meal']],\n",
    "  columns=[\"Name\", \"Frequency\", \"Type\"])\n",
    "\n",
    "print(df)\n",
    "print(df.groupby(['Type']).sum())"
   ]
  },
  {
   "cell_type": "code",
   "execution_count": null,
   "metadata": {},
   "outputs": [],
   "source": [
    "df = pd.DataFrame([\n",
    "  ['Apple', 7, 5, 'Fruit'],\n",
    "  ['Banana', 3, 6, 'Fruit'],\n",
    "  ['Beef', 5, 2, 'Meal'],\n",
    "  ['Kimchi', 4, 8, 'Meal']],\n",
    "  columns=[\"Name\", \"Frequency\", \"Importance\", \"Type\"])\n",
    "\n",
    "print(df)\n",
    "print(df.groupby([\"Type\"]).aggregate([\"min\", \"max\", \"sum\"]))"
   ]
  },
  {
   "cell_type": "code",
   "execution_count": null,
   "metadata": {},
   "outputs": [],
   "source": [
    "df = pd.DataFrame([\n",
    "  ['Apple', 7, 5, 'Fruit'],\n",
    "  ['Banana', 3, 6, 'Fruit'],\n",
    "  ['Beef', 5, 2, 'Meal'],\n",
    "  ['Kimchi', 4, 8, 'Meal']],\n",
    "  columns=[\"Name\", \"Frequency\", \"Importance\", \"Type\"])\n",
    "\n",
    "\n",
    "def my_filter(data):\n",
    "  return data[\"Frequency\"].mean() >= 5\n",
    "\n",
    "\n",
    "print(df)\n",
    "df = df.groupby(\"Type\").filter(my_filter)\n",
    "print(df)"
   ]
  },
  {
   "cell_type": "code",
   "execution_count": null,
   "metadata": {},
   "outputs": [],
   "source": [
    "df = pd.DataFrame([\n",
    "  ['Apple', 7, 5, 'Fruit'],\n",
    "  ['Banana', 3, 6, 'Fruit'],\n",
    "  ['Beef', 5, 2, 'Meal'],\n",
    "  ['Kimchi', 4, 8, 'Meal']],\n",
    "  columns=[\"Name\", \"Frequency\", \"Importance\", \"Type\"])\n",
    "\n",
    "df = df.groupby(\"Type\").get_group(\"Fruit\")\n",
    "print(df)"
   ]
  },
  {
   "cell_type": "code",
   "execution_count": null,
   "metadata": {},
   "outputs": [],
   "source": [
    "df = pd.DataFrame(\n",
    "  np.random.randint(1, 10, (4, 4)),\n",
    "  index=[['1차', '1차', '2차', '2차'], ['공격', '수비', '공격', '수비']],\n",
    "  columns=['1회', '2회', '3회', '4회']\n",
    ")\n",
    "\n",
    "print(df)\n",
    "print(df[[\"1회\", \"2회\"]].loc[\"2차\"])"
   ]
  },
  {
   "cell_type": "markdown",
   "metadata": {},
   "source": [
    "# 피벗"
   ]
  },
  {
   "cell_type": "code",
   "execution_count": null,
   "metadata": {},
   "outputs": [],
   "source": [
    "df = pd.DataFrame([\n",
    "    ['Apple', 7, 5, 'Fruit'],\n",
    "    ['Banana', 3, 6, 'Fruit'],\n",
    "    ['Coconut', 2, 6, 'Fruit'],\n",
    "    ['Rice', 8, 2, 'Meal'],\n",
    "    ['Beef', 5, 2, 'Meal'],\n",
    "    ['Kimchi', 4, 8, 'Meal']],\n",
    "   columns=[\"Name\", \"Frequency\", \"Importance\", \"Type\"])\n",
    "\n",
    "print(df)\n",
    "df = df.pivot_table(\n",
    "    index=\"Importance\", columns=\"Type\", values=\"Frequency\",\n",
    "    aggfunc=np.max\n",
    ")\n",
    "print(df)"
   ]
  }
 ],
 "metadata": {
  "kernelspec": {
   "display_name": "Python 3 (ipykernel)",
   "language": "python",
   "name": "python3"
  },
  "language_info": {
   "codemirror_mode": {
    "name": "ipython",
    "version": 3
   },
   "file_extension": ".py",
   "mimetype": "text/x-python",
   "name": "python",
   "nbconvert_exporter": "python",
   "pygments_lexer": "ipython3",
   "version": "3.11.5"
  }
 },
 "nbformat": 4,
 "nbformat_minor": 4
}
