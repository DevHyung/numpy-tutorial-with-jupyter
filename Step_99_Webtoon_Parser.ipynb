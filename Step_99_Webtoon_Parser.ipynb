{
 "cells": [
  {
   "cell_type": "code",
   "execution_count": 5,
   "id": "f2bc927b-ae19-46b2-9ec0-7931951a533a",
   "metadata": {},
   "outputs": [],
   "source": [
    "#-*- encoding:utf8 -*-\n",
    "import requests\n",
    "from bs4 import BeautifulSoup"
   ]
  },
  {
   "cell_type": "code",
   "execution_count": 6,
   "id": "f40cfe2b-3b9e-4577-90e4-107dcd54b3a4",
   "metadata": {},
   "outputs": [],
   "source": [
    "\"\"\" CONFIG AREA \"\"\"\n",
    "HEADERS = {\n",
    "    'Accept':'image/webp,image/apng,image/*,*/*;q=0.8',\n",
    "    'Accept-Encoding':'gzip, deflate',\n",
    "    'Accept-Language':'ko-KR,ko;q=0.8,en-US;q=0.6,en;q=0.4',\n",
    "    'Connection':'keep-alive',\n",
    "    'Host':'imgcomic.naver.net',\n",
    "    'Referer':'http://comic.naver.com/webtoon/detail.nhn?titleId=641253&no=140&weekday=fri',\n",
    "    'User-Agent':'Mozilla/5.0 (Windows NT 10.0; Win64; x64) AppleWebKit/537.36 (KHTML, like Gecko) Chrome/59.0.3071.115 Safari/537.36'\n",
    "}"
   ]
  },
  {
   "cell_type": "markdown",
   "id": "f9fffa63-0fa1-4ca6-a5c1-01ee811bed98",
   "metadata": {},
   "source": [
    "# 네이버 웹툰 불러오기"
   ]
  },
  {
   "cell_type": "code",
   "execution_count": 7,
   "id": "01b257e3-fc66-4d71-9633-e4d0d0a1b304",
   "metadata": {},
   "outputs": [],
   "source": [
    "# 외모지상주의 겟!\n",
    "url = \"http://comic.naver.com/webtoon/detail.nhn?titleId=641253&no=140&weekday=fri\"\n",
    "\n",
    "# GET html + BS parser\n",
    "resp = requests.get(url)\n",
    "bs4 = BeautifulSoup(resp.text, \"html.parser\")\n",
    "\n",
    "# parsing\n",
    "title = bs4.find(\"div\", class_=\"title_area\").find('span', id='subTitle_toolbar').get_text()\n",
    "imglist = bs4.find('div',class_=\"wt_viewer\").find_all('img')\n",
    "for idx, i in enumerate(imglist[:5]):\n",
    "    imgcode = requests.get(i['src'],headers=HEADERS)\n",
    "    with open(\"{}_{}.jpg\".format(title, idx), 'wb') as f:\n",
    "        f.write(imgcode.content)"
   ]
  }
 ],
 "metadata": {
  "kernelspec": {
   "display_name": "Python 3 (ipykernel)",
   "language": "python",
   "name": "python3"
  },
  "language_info": {
   "codemirror_mode": {
    "name": "ipython",
    "version": 3
   },
   "file_extension": ".py",
   "mimetype": "text/x-python",
   "name": "python",
   "nbconvert_exporter": "python",
   "pygments_lexer": "ipython3",
   "version": "3.11.5"
  }
 },
 "nbformat": 4,
 "nbformat_minor": 5
}
