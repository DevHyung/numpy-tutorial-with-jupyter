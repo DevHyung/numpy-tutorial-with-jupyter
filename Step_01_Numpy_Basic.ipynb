{
 "cells": [
  {
   "cell_type": "markdown",
   "metadata": {},
   "source": [
    "# 수업 내용 이해"
   ]
  },
  {
   "cell_type": "markdown",
   "metadata": {},
   "source": [
    "이번 스텝에서는 Numpy의 기본 사용법을 알아보겠습니다.\n",
    "- 리스트 to 넘파이 np.array()\n",
    "- 배열초기화 arange(), zeros(), ones()\n",
    "- 배열합치기 concatenate()\n",
    "- 배열바꾸기 reshape()\n",
    "- 배열나누기 split()"
   ]
  },
  {
   "cell_type": "markdown",
   "metadata": {},
   "source": [
    "## 필요패키지 및 alias"
   ]
  },
  {
   "cell_type": "code",
   "execution_count": 1,
   "metadata": {},
   "outputs": [],
   "source": [
    "import numpy as np"
   ]
  },
  {
   "cell_type": "markdown",
   "metadata": {},
   "source": [
    "## python `list` -> to -> numpy `array`\n",
    "\n",
    "python의 list와 NumPy 패키지의 list(array)와 호환가능합니다 \n",
    "아래의 코드를 실행해보시고 각 의미를 해석해보세요 \n",
    "```python\n",
    "array = np.array([1, 2, 3])\n",
    "\n",
    "print(array.size) \n",
    "print(array.dtype)\n",
    "print(array[2]) \n",
    "```"
   ]
  },
  {
   "cell_type": "code",
   "execution_count": null,
   "metadata": {},
   "outputs": [],
   "source": []
  },
  {
   "cell_type": "markdown",
   "metadata": {},
   "source": [
    "## 배열초기화 arange(), zeros(), ones()\n",
    "\n",
    "NumPy를 이용해 다양하게 배열을 초기화 하는 실습을 따라해봅니다.\n",
    "그리고 출력전 어떻게 결과가 나올지 예상 후 확인하시면서 \n",
    "나의 예상과 어떻게 다른지를 비교해보세요\n",
    "```python\n",
    "\n",
    "array1 = np.arange(4)\n",
    "array2 = np.zeros((4, 4), dtype=float)\n",
    "array3 = np.ones((3, 3), dtype=str)\n",
    "array4 = np.random.randint(0, 10, (3, 3))\n",
    "array5 = np.random.normal(0, 1, (3, 3)) # 평균이 X고 표준편차가 Y인 표준정규분포를 따르는 배열\n",
    "\n",
    "print(array1)\n",
    "print(array2)\n",
    "print(array3)\n",
    "print(array4)\n",
    "print(array5) \n",
    "```"
   ]
  },
  {
   "cell_type": "code",
   "execution_count": null,
   "metadata": {},
   "outputs": [],
   "source": []
  },
  {
   "cell_type": "markdown",
   "metadata": {},
   "source": [
    "## 배열합치기 concatenate()\n",
    "\n",
    "배열 concat의\n",
    "결과를 예상하고 그 뒤 결과를 확인하여 비교해보세요 \n",
    "\n",
    "```python\n",
    "\n",
    "array1 = np.array([1, 2, 3]) \n",
    "array2 = np.array([4, 5, 6])\n",
    "array3 = np.concatenate([array1, array2])\n",
    "\n",
    "array4 = np.arange(4).reshape(1, 4)\n",
    "array5 = np.arange(8).reshape(2, 4)\n",
    "array6 = np.concatenate([array4, array5], axis=0)\n",
    "\n",
    "print(array3.shape)\n",
    "print(array3)\n",
    "print(array6.shape)\n",
    "print(array6)\n",
    "```"
   ]
  },
  {
   "cell_type": "code",
   "execution_count": null,
   "metadata": {},
   "outputs": [],
   "source": []
  },
  {
   "cell_type": "markdown",
   "metadata": {},
   "source": [
    "## 배열바꾸기 reshape()\n",
    "\n",
    "배열 reshape의\n",
    "결과를 예상하고 그 뒤 결과를 확인하여 비교해보세요 \n",
    "\n",
    "```python\n",
    "\n",
    "array1 = np.array([1, 2, 3, 4])\n",
    "array2 = array1.reshape((2, 2))\n",
    "\n",
    "array3 = np.array([1, 2, 3, 4])\n",
    "array4 = array3.reshape((1, 1))\n",
    "\n",
    "array5 = np.array([1, 2, 3, 4])\n",
    "array6 = array5.reshape((3, 3))\n",
    "\n",
    "\n",
    "print(array2.shape)\n",
    "print(array4.shape)\n",
    "print(array6.shape)\n",
    "\n",
    "```"
   ]
  },
  {
   "cell_type": "code",
   "execution_count": null,
   "metadata": {},
   "outputs": [],
   "source": []
  },
  {
   "cell_type": "markdown",
   "metadata": {},
   "source": [
    "## 배열나누기 split()\n",
    "\n",
    "배열 split의\n",
    "결과를 예상하고 그 뒤 결과를 확인하여 비교해보세요 \n",
    "\n",
    "```python\n",
    "\n",
    "array = np.arange(8).reshape(2, 4)\n",
    "left, right = np.split(array, [2], axis=1)\n",
    "\n",
    "print(left.shape)\n",
    "print(right.shape)\n",
    "print(right[1][1])\n",
    "\n",
    "array = np.arange(8).reshape(2, 4)\n",
    "left, right = np.split(array, [0], axis=1)\n",
    "\n",
    "print(left.shape)\n",
    "print(right.shape)\n",
    "print(right[1][1])\n",
    "\n",
    "```"
   ]
  },
  {
   "cell_type": "code",
   "execution_count": null,
   "metadata": {},
   "outputs": [],
   "source": []
  }
 ],
 "metadata": {
  "kernelspec": {
   "display_name": "Python 3 (ipykernel)",
   "language": "python",
   "name": "python3"
  },
  "language_info": {
   "codemirror_mode": {
    "name": "ipython",
    "version": 3
   },
   "file_extension": ".py",
   "mimetype": "text/x-python",
   "name": "python",
   "nbconvert_exporter": "python",
   "pygments_lexer": "ipython3",
   "version": "3.11.5"
  }
 },
 "nbformat": 4,
 "nbformat_minor": 4
}
