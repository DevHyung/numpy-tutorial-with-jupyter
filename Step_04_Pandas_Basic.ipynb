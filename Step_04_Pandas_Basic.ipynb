{
 "cells": [
  {
   "cell_type": "markdown",
   "metadata": {},
   "source": [
    "# 수업 내용 이해"
   ]
  },
  {
   "cell_type": "markdown",
   "metadata": {},
   "source": [
    "이번 스텝에서는 Pandas의 기본 ~ 활용 부분을 간단하게 다루려합니다. \n",
    "\n",
    "실행을 하기 전 결과를 예상하고 <br>\n",
    "복붙이 아닌 타이핑으로 문법에 대해 <br>\n",
    "익숙해지시면서 따라하시길 추천 드립니다.<br>\n",
    "\n",
    "목차\n",
    "- Series\n",
    "- DataFrame \n",
    "- pandas datas save "
   ]
  },
  {
   "cell_type": "markdown",
   "metadata": {},
   "source": [
    "## 필요패키지 및 alias"
   ]
  },
  {
   "cell_type": "code",
   "execution_count": null,
   "metadata": {},
   "outputs": [],
   "source": [
    "import pandas as pd"
   ]
  },
  {
   "cell_type": "markdown",
   "metadata": {},
   "source": [
    "## 데이터 준비 \n",
    "\n",
    "실습에 사용하시고 싶은 이미지를 코드와 같은 위치에 <br>\n",
    "`data.txt`로 저장합니다. <br> "
   ]
  },
  {
   "cell_type": "markdown",
   "metadata": {},
   "source": [
    "# Series(시리즈)"
   ]
  },
  {
   "cell_type": "code",
   "execution_count": null,
   "metadata": {},
   "outputs": [],
   "source": [
    "\"\"\" 시리즈 기본 \"\"\"\n",
    "array = pd.Series(['사과', '바나나', '당근'], \n",
    "                  index=['a', 'b', 'c'])\n",
    "\n",
    "print(array, end='\\n\\n')\n",
    "print(array['a'], end='\\n\\n')\n",
    "print(type(array))"
   ]
  },
  {
   "cell_type": "code",
   "execution_count": null,
   "metadata": {},
   "outputs": [],
   "source": [
    "\"\"\" dict-to-series \"\"\"\n",
    "data = {\n",
    "    'a': '사과',\n",
    "    'b': '바나나',\n",
    "    'c': '당근'\n",
    "}\n",
    "array = pd.Series(data)\n",
    "print(data, end='\\n\\n')\n",
    "print(array)\n"
   ]
  },
  {
   "cell_type": "code",
   "execution_count": null,
   "metadata": {},
   "outputs": [],
   "source": [
    "\"\"\" 시리즈 연산 \"\"\"\n",
    "array1 = pd.Series([1, 2, 3], index=['A', 'B', 'C'])\n",
    "array2 = pd.Series([4, 5, 6], index=['B', 'C', 'D'])\n",
    "\n",
    "array = array1.add(array2, fill_value=0)\n",
    "print(array)"
   ]
  },
  {
   "cell_type": "markdown",
   "metadata": {},
   "source": [
    "# Dataframe"
   ]
  },
  {
   "cell_type": "code",
   "execution_count": null,
   "metadata": {},
   "outputs": [],
   "source": [
    "\"\"\" Pandas Dataframe \"\"\"\n",
    "# https://pandas.pydata.org/docs/\n",
    "word_dict = {\n",
    "    'Apple': '사과',\n",
    "    'Banana': '바나나',\n",
    "    'Carrot': '당근'\n",
    "}\n",
    "\n",
    "frequency_dict = {\n",
    "    'Apple': 3,\n",
    "    'Banana': 5,\n",
    "    'Carrot': 7\n",
    "}\n",
    "\n",
    "word = pd.Series(word_dict)\n",
    "frequency = pd.Series(frequency_dict)\n",
    "\n",
    "# 이름(Name): 값(Values)\n",
    "summary = pd.DataFrame({\n",
    "    'word': word,\n",
    "    'frequency': frequency\n",
    "})\n",
    "\n",
    "print(summary)"
   ]
  },
  {
   "cell_type": "code",
   "execution_count": null,
   "metadata": {},
   "outputs": [],
   "source": [
    "\"\"\" DF 연산 \"\"\"\n",
    "word_dict = {\n",
    "    'Apple': '사과',\n",
    "    'Banana': '바나나',\n",
    "    'Carrot': '당근'\n",
    "}\n",
    "\n",
    "frequency_dict = {\n",
    "    'Apple': 3,\n",
    "    'Banana': 5,\n",
    "    'Carrot': 7\n",
    "}\n",
    "\n",
    "importance_dict = {\n",
    "    'Apple': 3,\n",
    "    'Banana': 2,\n",
    "    'Carrot': 1\n",
    "}\n",
    "\n",
    "word = pd.Series(word_dict)\n",
    "frequency = pd.Series(frequency_dict)\n",
    "importance = pd.Series(importance_dict)\n",
    "\n",
    "summary = pd.DataFrame({\n",
    "    'word': word,\n",
    "    'frequency': frequency,\n",
    "    'importance': importance\n",
    "})\n",
    "\n",
    "score = summary['frequency'] * summary['importance']\n",
    "summary['score'] = score\n",
    "\n",
    "print(summary)"
   ]
  },
  {
   "cell_type": "code",
   "execution_count": null,
   "metadata": {},
   "outputs": [],
   "source": [
    "\"\"\" DF 슬라이싱 \"\"\"\n",
    "word_dict = {\n",
    "    'Apple': '사과',\n",
    "    'Banana': '바나나',\n",
    "    'Carrot': '당근',\n",
    "    'Durian': '두리안'\n",
    "}\n",
    "\n",
    "frequency_dict = {\n",
    "    'Apple': 3,\n",
    "    'Banana': 5,\n",
    "    'Carrot': 7,\n",
    "    'Durian': 2\n",
    "}\n",
    "\n",
    "importance_dict = {\n",
    "    'Apple': 3,\n",
    "    'Banana': 2,\n",
    "    'Carrot': 1,\n",
    "    'Durian': 1\n",
    "}\n",
    "\n",
    "word = pd.Series(word_dict)\n",
    "frequency = pd.Series(frequency_dict)\n",
    "importance = pd.Series(importance_dict)\n",
    "\n",
    "summary = pd.DataFrame({\n",
    "    'word': word,\n",
    "    'frequency': frequency,\n",
    "    'importance': importance\n",
    "})\n",
    "\n",
    "print(summary, end='\\n\\n')\n",
    "\n",
    "# 이름을 기준으로 슬라이싱\n",
    "print(summary.loc['Banana':'Carrot', 'importance':], end='\\n\\n')\n",
    "\n",
    "# 인덱스를 기준으로 슬라이싱\n",
    "print(summary.iloc[1:3, 2:])"
   ]
  },
  {
   "cell_type": "code",
   "execution_count": null,
   "metadata": {},
   "outputs": [],
   "source": [
    "\"\"\" DF 연산 \"\"\"\n",
    "array1 = pd.DataFrame([[1, 2], [3, 4]], index=['A', 'B'])\n",
    "array2 = pd.DataFrame([[1, 2, 3], [4, 5, 6], [7, 8, 9]], index=['B', 'C', 'D'])\n",
    "\n",
    "print(array1, end='\\n\\n')\n",
    "print(array2, end='\\n\\n')\n",
    "\n",
    "array = array1.add(array2, fill_value=0)\n",
    "print(array)\n"
   ]
  },
  {
   "cell_type": "code",
   "execution_count": null,
   "metadata": {},
   "outputs": [],
   "source": [
    "\"\"\" DF 다행연산 \"\"\"\n",
    "word_dict = {\n",
    "    'Apple': '사과',\n",
    "    'Banana': '바나나',\n",
    "    'Carrot': '당근',\n",
    "    'Durian': '두리안'\n",
    "}\n",
    "\n",
    "frequency_dict = {\n",
    "    'Apple': 3,\n",
    "    'Banana': 5,\n",
    "    'Carrot': 7,\n",
    "    'Durian': 2\n",
    "}\n",
    "\n",
    "importance_dict = {\n",
    "    'Apple': 3,\n",
    "    'Banana': 2,\n",
    "    'Carrot': 1,\n",
    "    'Durian': 1\n",
    "}\n",
    "\n",
    "word = pd.Series(word_dict)\n",
    "frequency = pd.Series(frequency_dict)\n",
    "importance = pd.Series(importance_dict)\n",
    "\n",
    "summary = pd.DataFrame({\n",
    "    'word': word,\n",
    "    'frequency': frequency,\n",
    "    'importance': importance\n",
    "})\n",
    "\n",
    "print(summary)\n",
    "\n",
    "summary.loc['Apple', 'importance'] = 5 # 데이터의 변경\n",
    "summary.loc['Elderberry'] = ['엘더베리', 5, 3] # 새 데이터 삽입\n",
    "\n",
    "print(summary)"
   ]
  },
  {
   "cell_type": "code",
   "execution_count": null,
   "metadata": {},
   "outputs": [],
   "source": [
    "\"\"\" DF 집계함수 \"\"\"\n",
    "array1 = pd.DataFrame([[1, 2], [3, 4]], index=['A', 'B'])\n",
    "array2 = pd.DataFrame([[1, 2, 3], [4, 5, 6], [7, 8, 9]], index=['B', 'C', 'D'])\n",
    "\n",
    "array = array1.add(array2, fill_value=0)\n",
    "print(array, end='\\n\\n')\n",
    "\n",
    "print(array[0]) # 뭐가나올까요?\n",
    "print(array.iloc[0]) # 뭐가나올까요 ? \n",
    "\n",
    "print(\"컬럼 1의 합:\", array[1].sum(), end='\\n\\n')\n",
    "print(array.sum())"
   ]
  },
  {
   "cell_type": "code",
   "execution_count": null,
   "metadata": {},
   "outputs": [],
   "source": [
    "\"\"\" DF 정렬 \"\"\"\n",
    "word_dict = {\n",
    "    'Apple': '사과',\n",
    "    'Banana': '바나나',\n",
    "    'Carrot': '당근',\n",
    "    'Durian': '두리안'\n",
    "}\n",
    "\n",
    "frequency_dict = {\n",
    "    'Apple': 3,\n",
    "    'Banana': 5,\n",
    "    'Carrot': 1,\n",
    "    'Durian': 2\n",
    "}\n",
    "\n",
    "importance_dict = {\n",
    "    'Apple': 3,\n",
    "    'Banana': 2,\n",
    "    'Carrot': 1,\n",
    "    'Durian': 1\n",
    "}\n",
    "\n",
    "word = pd.Series(word_dict)\n",
    "frequency = pd.Series(frequency_dict)\n",
    "importance = pd.Series(importance_dict)\n",
    "\n",
    "summary = pd.DataFrame({\n",
    "    'word': word,\n",
    "    'frequency': frequency,\n",
    "    'importance': importance\n",
    "})\n",
    "\n",
    "print(summary)\n",
    "summary = summary.sort_values('frequency', ascending=False)\n",
    "print(summary)"
   ]
  },
  {
   "cell_type": "markdown",
   "metadata": {},
   "source": [
    "# 엑셀로 저장 및 불러오기 "
   ]
  },
  {
   "cell_type": "code",
   "execution_count": null,
   "metadata": {},
   "outputs": [],
   "source": [
    "word_dict = {\n",
    "    'Apple': '사과',\n",
    "    'Banana': '바나나',\n",
    "    'Carrot': '당근'\n",
    "}\n",
    "\n",
    "frequency_dict = {\n",
    "    'Apple': 3,\n",
    "    'Banana': 5,\n",
    "    'Carrot': 7\n",
    "}\n",
    "\n",
    "word = pd.Series(word_dict)\n",
    "frequency = pd.Series(frequency_dict)\n",
    "\n",
    "summary = pd.DataFrame({\n",
    "    'word': word,\n",
    "    'frequency': frequency\n",
    "})\n",
    "\n",
    "summary.to_csv(\"summary.csv\", encoding=\"utf-8\")\n",
    "print(\"저장 완료\")\n",
    "saved = pd.read_csv(\"summary.csv\", index_col=0)\n",
    "print(saved)\n"
   ]
  }
 ],
 "metadata": {
  "kernelspec": {
   "display_name": "Python 3 (ipykernel)",
   "language": "python",
   "name": "python3"
  },
  "language_info": {
   "codemirror_mode": {
    "name": "ipython",
    "version": 3
   },
   "file_extension": ".py",
   "mimetype": "text/x-python",
   "name": "python",
   "nbconvert_exporter": "python",
   "pygments_lexer": "ipython3",
   "version": "3.11.5"
  }
 },
 "nbformat": 4,
 "nbformat_minor": 4
}
