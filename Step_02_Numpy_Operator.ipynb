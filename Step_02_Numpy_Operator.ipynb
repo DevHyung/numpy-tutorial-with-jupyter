{
 "cells": [
  {
   "cell_type": "markdown",
   "metadata": {},
   "source": [
    "# 수업 내용 이해"
   ]
  },
  {
   "cell_type": "markdown",
   "metadata": {},
   "source": [
    "이번 스텝에서는 Numpy의 기본 연산 및 자주쓰이는 함수를 알아보겠습니다.\n",
    "- NumPy Broadcasting\n",
    "- 다른 shape 끼리의 연산\n",
    "- NumPy Masking\n",
    "- NumPy sum(), min(), max()"
   ]
  },
  {
   "cell_type": "markdown",
   "metadata": {},
   "source": [
    "## 필요패키지 및 alias"
   ]
  },
  {
   "cell_type": "code",
   "execution_count": 2,
   "metadata": {},
   "outputs": [],
   "source": [
    "import numpy as np"
   ]
  },
  {
   "cell_type": "markdown",
   "metadata": {},
   "source": [
    "## NumPy Broadcasting\n",
    "\n",
    "NumPy를 이용해 다양하게 배열을 초기화 하는 실습을 따라해봅니다. <br>\n",
    "그리고 출력전 어떻게 결과가 나올지 꼭 예상 후 <br> \n",
    "그다음 나의 예상과 어떻게 다른지를 비교하시면서 실행하세요 \n",
    "```python\n",
    "\n",
    "array = np.random.randint(1, 10, size=4).reshape(2, 2)\n",
    "result_array = array * 10\n",
    "print(array)\n",
    "print(result_array)\n",
    "print('_'*50)\n",
    "\n",
    "array2 = np.arange(8).reshape(2, 4)\n",
    "result_array2 = array2 * 10\n",
    "print(array2)\n",
    "print(result_array2)\n",
    "```"
   ]
  },
  {
   "cell_type": "code",
   "execution_count": null,
   "metadata": {},
   "outputs": [],
   "source": []
  },
  {
   "cell_type": "markdown",
   "metadata": {},
   "source": [
    "## 다른 shape 끼리의 연산\n",
    "\n",
    "NumPy를 이용해 다른형태의 배열들을 연산 하는 실습을 따라해봅니다. <br>\n",
    "그리고 출력전 어떻게 결과가 나올지 꼭 예상 후 <br> \n",
    "그다음 나의 예상과 어떻게 다른지를 비교하시면서 실행하세요 \n",
    "```python\n",
    "\n",
    "array1 = np.arange(4).reshape(2, 2)\n",
    "array2 = np.arange(2).reshape(2,1)\n",
    "array3 = array1 + array2\n",
    "print(array1, end='\\n\\n')\n",
    "print(array2, end='\\n\\n')\n",
    "print(array3)\n",
    "\n",
    "# 어떻게 더해질까?\n",
    "array1 = np.arange(0, 8).reshape(2, 4)\n",
    "array2 = np.arange(0, 8).reshape(2, 4)\n",
    "array3 = np.concatenate([array1, array2], axis=0)\n",
    "array4 = np.arange(0, 4).reshape(4, 1)\n",
    "print(array3)\n",
    "print(array4)\n",
    "print(array3 + array4)\n",
    "\n",
    "# Is Possible?\n",
    "array1 = np.arange(4).reshape(2, 2)\n",
    "array2 = np.arange(3).reshape(3,1)\n",
    "array3 = array1 + array2\n",
    "print(array1, end='\\n\\n')\n",
    "print(array2, end='\\n\\n')\n",
    "print(array3)\n",
    "\n",
    "```"
   ]
  },
  {
   "cell_type": "code",
   "execution_count": null,
   "metadata": {},
   "outputs": [],
   "source": []
  },
  {
   "cell_type": "markdown",
   "metadata": {},
   "source": [
    "## NumPy Masking\n",
    "반복문을 이용할 때보다 매우 빠르게 동작하고 보통 이미지처리때 많이 사용됩니다\n",
    "출력전 어떻게 결과가 나올지 꼭 예상 후 <br> \n",
    "그다음 나의 예상과 어떻게 다른지를 비교하시면서 실행하세요 \n",
    "\n",
    "```python\n",
    "array1 = np.arange(16).reshape(4, 4)\n",
    "print(array1)\n",
    "array2 = array1 < 10\n",
    "print(array2)\n",
    "array1[array2] = 100\n",
    "print(array1)\n",
    "```"
   ]
  },
  {
   "cell_type": "code",
   "execution_count": null,
   "metadata": {},
   "outputs": [],
   "source": []
  },
  {
   "cell_type": "markdown",
   "metadata": {},
   "source": [
    "## NumPy sum(), min(), max()\n",
    "\n",
    "출력전 어떻게 결과가 나올지 꼭 예상 후 <br> \n",
    "그다음 나의 예상과 어떻게 다른지를 비교하시면서 실행하세요 \n",
    "```python\n",
    "array = np.arange(16).reshape(4, 4)\n",
    "print(array)\n",
    "print(\"최대값:\", np.max(array))\n",
    "print(\"최소값:\", np.min(array))\n",
    "print(\"합계:\", np.sum(array))\n",
    "print(\"평균값:\", np.mean(array))\n",
    "print(array)\n",
    "print(\"합계:\", np.sum(array, axis=0))\n",
    "```"
   ]
  },
  {
   "cell_type": "code",
   "execution_count": null,
   "metadata": {},
   "outputs": [],
   "source": []
  }
 ],
 "metadata": {
  "kernelspec": {
   "display_name": "Python 3 (ipykernel)",
   "language": "python",
   "name": "python3"
  },
  "language_info": {
   "codemirror_mode": {
    "name": "ipython",
    "version": 3
   },
   "file_extension": ".py",
   "mimetype": "text/x-python",
   "name": "python",
   "nbconvert_exporter": "python",
   "pygments_lexer": "ipython3",
   "version": "3.10.10"
  }
 },
 "nbformat": 4,
 "nbformat_minor": 4
}
